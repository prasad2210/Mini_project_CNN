{
  "nbformat": 4,
  "nbformat_minor": 0,
  "metadata": {
    "accelerator": "GPU",
    "colab": {
      "name": "prasad_assingment.ipynb",
      "provenance": []
    },
    "kernelspec": {
      "display_name": "Python 3",
      "language": "python",
      "name": "python3"
    },
    "language_info": {
      "codemirror_mode": {
        "name": "ipython",
        "version": 3
      },
      "file_extension": ".py",
      "mimetype": "text/x-python",
      "name": "python",
      "nbconvert_exporter": "python",
      "pygments_lexer": "ipython3",
      "version": "3.7.4"
    }
  },
  "cells": [
    {
      "cell_type": "code",
      "metadata": {
        "colab": {
          "base_uri": "https://localhost:8080/"
        },
        "id": "_9jdJo17yXM5",
        "outputId": "64a9c338-1ef9-41d6-ecc3-ed10aceaa525"
      },
      "source": [
        "from google.colab import drive\n",
        "drive.mount('/content/drive')"
      ],
      "execution_count": null,
      "outputs": [
        {
          "output_type": "stream",
          "name": "stdout",
          "text": [
            "Mounted at /content/drive\n"
          ]
        }
      ]
    },
    {
      "cell_type": "code",
      "metadata": {
        "id": "KlBOQWuixXHu"
      },
      "source": [
        "import numpy as np\n",
        "from keras.models import Model,Sequential\n",
        "import pandas as pd\n",
        "from sklearn.model_selection import train_test_split\n",
        "import os\n",
        "import matplotlib.pyplot as plt\n",
        "from tensorflow.keras.optimizers import Adam\n",
        "import keras\n",
        "from scipy import signal\n",
        "import cv2\n",
        "from sklearn.metrics import precision_recall_fscore_support\n",
        "import tensorflow as tf\n",
        "from keras.layers import Dense, Flatten\n",
        "from sklearn.metrics import accuracy_score\n",
        "from natsort import natsorted"
      ],
      "execution_count": null,
      "outputs": []
    },
    {
      "cell_type": "code",
      "metadata": {
        "id": "iGyfzdDgULYJ"
      },
      "source": [
        "data=pd.read_csv('drive/MyDrive/archive/sample_labels.csv')\n",
        "x=[]\n",
        "y=[]\n",
        "for i in range(0, len(data[\"Finding Labels\"])):\n",
        "  a=cv2.imread('drive/MyDrive/archive/images/'+data[\"Image Index\"][i])\n",
        "  a=cv2.resize(a,(224,224))\n",
        "  x.append(a)\n",
        "  if(data[\"Finding Labels\"][i]=='No Finding'):\n",
        "    y.append(0)\n",
        "  else:\n",
        "    y.append(1)"
      ],
      "execution_count": null,
      "outputs": []
    },
    {
      "cell_type": "code",
      "metadata": {
        "colab": {
          "base_uri": "https://localhost:8080/"
        },
        "id": "4nGB4nyvV77X",
        "outputId": "9ad6ca86-9e92-45e8-c320-32e293c2b8e6"
      },
      "source": [
        "x=np.array(x)\n",
        "y=np.array(y)\n",
        "print(x.shape, y.shape)"
      ],
      "execution_count": null,
      "outputs": [
        {
          "output_type": "stream",
          "name": "stdout",
          "text": [
            "(5606, 224, 224, 3) (5606,)\n"
          ]
        }
      ]
    },
    {
      "cell_type": "code",
      "metadata": {
        "id": "5_guZCG-xXH7",
        "colab": {
          "base_uri": "https://localhost:8080/"
        },
        "outputId": "716f6ede-14f0-4a14-9f78-82da7cbad52a"
      },
      "source": [
        "xtrain,xtest,ytrain,ytest=train_test_split(x,y,test_size=0.2)\n",
        "print(xtrain.shape)\n",
        "print(ytrain.shape)"
      ],
      "execution_count": null,
      "outputs": [
        {
          "output_type": "stream",
          "name": "stdout",
          "text": [
            "(4484, 224, 224, 3)\n",
            "(4484,)\n"
          ]
        }
      ]
    },
    {
      "cell_type": "code",
      "metadata": {
        "id": "-KC9biYr7wAt",
        "colab": {
          "base_uri": "https://localhost:8080/",
          "height": 1000
        },
        "outputId": "253459c0-7f5b-4aa7-d64b-d8bae57f9a8a"
      },
      "source": [
        "encoder = tf.keras.applications.ResNet50(include_top=False,weights='imagenet',pooling= 'avg', input_shape=(224, 224, 3))\n",
        "model1=keras.Sequential()\n",
        "model1.add(encoder)\n",
        "model1.add(Flatten())\n",
        "model1.add(Dense(512, activation='relu'))\n",
        "model1.add(Dense(1, activation='sigmoid'))\n",
        "model1.summary()\n",
        "opt=Adam(learning_rate=0.000009,\n",
        "    beta_1=0.9,\n",
        "    beta_2=0.999,\n",
        "    epsilon=1e-07)\n",
        "model1.compile(loss='binary_crossentropy', optimizer=opt, metrics=['accuracy'])\n",
        "\n",
        "history1= model1.fit(xtrain,ytrain,epochs=50)\n",
        "\n",
        "print(\"\\n\")\n",
        "ypred1=model1.predict(xtest)\n",
        "for i in range(0,len(ypred1)):\n",
        "  if(ypred1[i,0]>0.5):\n",
        "    ypred1[i,0]=1\n",
        "  else:\n",
        "    ypred1[i,0]=0\n",
        "acc1=accuracy_score(ytest, ypred1)\n",
        "pr1, re1, f1, _ =precision_recall_fscore_support(ytest, ypred1, average='binary')\n",
        "print(\"Precision:\", pr1)\n",
        "print(\"Recall:\", re1)\n",
        "print(\"F1score:\", f1)\n",
        "print(\"Accuracy:\", acc1)\n",
        "file = open(\"drive/MyDrive/history1.txt\", \"w\")\n",
        "var = repr(history1.history)\n",
        "file.write(var)\n",
        "file.close()\n",
        "\n",
        "print(\"\\n\")\n",
        "plt.plot(history1.history['accuracy'])\n",
        "plt.title('model accuracy')\n",
        "plt.ylabel('accuracy')\n",
        "plt.xlabel('epoch')\n",
        "plt.legend(['train', 'test'], loc='upper left')\n",
        "plt.show()\n",
        "# summarize history for loss\n",
        "plt.plot(history1.history['loss'])\n",
        "plt.title('model loss')\n",
        "plt.ylabel('loss')\n",
        "plt.xlabel('epoch')\n",
        "plt.legend(['train', 'test'], loc='upper right')\n",
        "plt.show()"
      ],
      "execution_count": null,
      "outputs": [
        {
          "output_type": "stream",
          "name": "stdout",
          "text": [
            "Model: \"sequential_1\"\n",
            "_________________________________________________________________\n",
            " Layer (type)                Output Shape              Param #   \n",
            "=================================================================\n",
            " densenet121 (Functional)    (None, 1024)              7037504   \n",
            "                                                                 \n",
            " flatten_1 (Flatten)         (None, 1024)              0         \n",
            "                                                                 \n",
            " dense_2 (Dense)             (None, 512)               524800    \n",
            "                                                                 \n",
            " dense_3 (Dense)             (None, 1)                 513       \n",
            "                                                                 \n",
            "=================================================================\n",
            "Total params: 7,562,817\n",
            "Trainable params: 7,479,169\n",
            "Non-trainable params: 83,648\n",
            "_________________________________________________________________\n",
            "Epoch 1/50\n",
            "141/141 [==============================] - 118s 736ms/step - loss: 0.6882 - accuracy: 0.6008\n",
            "Epoch 2/50\n",
            "141/141 [==============================] - 104s 737ms/step - loss: 0.5714 - accuracy: 0.7112\n",
            "Epoch 3/50\n",
            "141/141 [==============================] - 104s 737ms/step - loss: 0.5083 - accuracy: 0.7676\n",
            "Epoch 4/50\n",
            "141/141 [==============================] - 104s 737ms/step - loss: 0.4435 - accuracy: 0.8202\n",
            "Epoch 5/50\n",
            "141/141 [==============================] - 104s 738ms/step - loss: 0.3876 - accuracy: 0.8597\n",
            "Epoch 6/50\n",
            "141/141 [==============================] - 104s 737ms/step - loss: 0.3233 - accuracy: 0.9014\n",
            "Epoch 7/50\n",
            "141/141 [==============================] - 104s 736ms/step - loss: 0.2605 - accuracy: 0.9358\n",
            "Epoch 8/50\n",
            "141/141 [==============================] - 104s 736ms/step - loss: 0.1983 - accuracy: 0.9652\n",
            "Epoch 9/50\n",
            "141/141 [==============================] - 104s 736ms/step - loss: 0.1457 - accuracy: 0.9817\n",
            "Epoch 10/50\n",
            "141/141 [==============================] - 104s 737ms/step - loss: 0.0976 - accuracy: 0.9933\n",
            "Epoch 11/50\n",
            "141/141 [==============================] - 104s 737ms/step - loss: 0.0692 - accuracy: 0.9964\n",
            "Epoch 12/50\n",
            "141/141 [==============================] - 104s 737ms/step - loss: 0.0508 - accuracy: 0.9975\n",
            "Epoch 13/50\n",
            "141/141 [==============================] - 104s 737ms/step - loss: 0.0358 - accuracy: 0.9989\n",
            "Epoch 14/50\n",
            "141/141 [==============================] - 104s 737ms/step - loss: 0.0273 - accuracy: 0.9991\n",
            "Epoch 15/50\n",
            "141/141 [==============================] - 104s 737ms/step - loss: 0.0217 - accuracy: 0.9991\n",
            "Epoch 16/50\n",
            "141/141 [==============================] - 104s 736ms/step - loss: 0.0148 - accuracy: 0.9996\n",
            "Epoch 17/50\n",
            "141/141 [==============================] - 104s 736ms/step - loss: 0.0177 - accuracy: 0.9989\n",
            "Epoch 18/50\n",
            "141/141 [==============================] - 104s 737ms/step - loss: 0.0132 - accuracy: 0.9996\n",
            "Epoch 19/50\n",
            "141/141 [==============================] - 104s 737ms/step - loss: 0.0149 - accuracy: 0.9984\n",
            "Epoch 20/50\n",
            "141/141 [==============================] - 104s 736ms/step - loss: 0.0095 - accuracy: 0.9996\n",
            "Epoch 21/50\n",
            "141/141 [==============================] - 104s 735ms/step - loss: 0.0063 - accuracy: 1.0000\n",
            "Epoch 22/50\n",
            "141/141 [==============================] - 104s 735ms/step - loss: 0.0063 - accuracy: 0.9993\n",
            "Epoch 23/50\n",
            "141/141 [==============================] - 104s 736ms/step - loss: 0.0185 - accuracy: 0.9978\n",
            "Epoch 24/50\n",
            "141/141 [==============================] - 104s 736ms/step - loss: 0.0147 - accuracy: 0.9971\n",
            "Epoch 25/50\n",
            "141/141 [==============================] - 104s 736ms/step - loss: 0.0136 - accuracy: 0.9984\n",
            "Epoch 26/50\n",
            "141/141 [==============================] - 104s 735ms/step - loss: 0.0073 - accuracy: 0.9991\n",
            "Epoch 27/50\n",
            "141/141 [==============================] - 104s 736ms/step - loss: 0.0075 - accuracy: 0.9982\n",
            "Epoch 28/50\n",
            "141/141 [==============================] - 104s 736ms/step - loss: 0.0040 - accuracy: 1.0000\n",
            "Epoch 29/50\n",
            "141/141 [==============================] - 103s 734ms/step - loss: 0.0032 - accuracy: 1.0000\n",
            "Epoch 30/50\n",
            "141/141 [==============================] - 103s 733ms/step - loss: 0.0034 - accuracy: 1.0000\n",
            "Epoch 31/50\n",
            "141/141 [==============================] - 103s 732ms/step - loss: 0.0033 - accuracy: 0.9996\n",
            "Epoch 32/50\n",
            "141/141 [==============================] - 103s 733ms/step - loss: 0.0117 - accuracy: 0.9984\n",
            "Epoch 33/50\n",
            "141/141 [==============================] - 104s 736ms/step - loss: 0.0166 - accuracy: 0.9953\n",
            "Epoch 34/50\n",
            "141/141 [==============================] - 104s 736ms/step - loss: 0.0098 - accuracy: 0.9987\n",
            "Epoch 35/50\n",
            "141/141 [==============================] - 104s 737ms/step - loss: 0.0082 - accuracy: 0.9982\n",
            "Epoch 36/50\n",
            "141/141 [==============================] - 104s 736ms/step - loss: 0.0064 - accuracy: 0.9996\n",
            "Epoch 37/50\n",
            "141/141 [==============================] - 104s 735ms/step - loss: 0.0041 - accuracy: 0.9996\n",
            "Epoch 38/50\n",
            "141/141 [==============================] - 104s 736ms/step - loss: 0.0191 - accuracy: 0.9962\n",
            "Epoch 39/50\n",
            "141/141 [==============================] - 104s 736ms/step - loss: 0.0202 - accuracy: 0.9962\n",
            "Epoch 40/50\n",
            "141/141 [==============================] - 104s 736ms/step - loss: 0.0068 - accuracy: 0.9989\n",
            "Epoch 41/50\n",
            "141/141 [==============================] - 104s 737ms/step - loss: 0.0032 - accuracy: 0.9998\n",
            "Epoch 42/50\n",
            "141/141 [==============================] - 104s 736ms/step - loss: 0.0036 - accuracy: 0.9993\n",
            "Epoch 43/50\n",
            "141/141 [==============================] - 104s 737ms/step - loss: 0.0071 - accuracy: 0.9993\n",
            "Epoch 44/50\n",
            "141/141 [==============================] - 104s 736ms/step - loss: 0.0100 - accuracy: 0.9978\n",
            "Epoch 45/50\n",
            "141/141 [==============================] - 104s 736ms/step - loss: 0.0040 - accuracy: 0.9996\n",
            "Epoch 46/50\n",
            "141/141 [==============================] - 104s 737ms/step - loss: 0.0034 - accuracy: 0.9996\n",
            "Epoch 47/50\n",
            "141/141 [==============================] - 104s 737ms/step - loss: 0.0160 - accuracy: 0.9973\n",
            "Epoch 48/50\n",
            "141/141 [==============================] - 104s 736ms/step - loss: 0.0101 - accuracy: 0.9975\n",
            "Epoch 49/50\n",
            "141/141 [==============================] - 104s 736ms/step - loss: 0.0042 - accuracy: 0.9998\n",
            "Epoch 50/50\n",
            "141/141 [==============================] - 104s 736ms/step - loss: 0.0028 - accuracy: 0.9998\n",
            "\n",
            "\n",
            "Precision: 0.6155507559395248\n",
            "Recall: 0.5654761904761905\n",
            "F1score: 0.5894519131334022\n",
            "Accuracy: 0.6461675579322638\n",
            "\n",
            "\n"
          ]
        },
        {
          "output_type": "display_data",
          "data": {
            "image/png": "[encoded data removed]",
            "text/plain": [
              "<Figure size 432x288 with 1 Axes>"
            ]
          },
          "metadata": {
            "needs_background": "light"
          }
        },
        {
          "output_type": "display_data",
          "data": {
            "image/png": "[encoded data removed]",
            "text/plain": [
              "<Figure size 432x288 with 1 Axes>"
            ]
          },
          "metadata": {
            "needs_background": "light"
          }
        }
      ]
    },
    {
      "cell_type": "code",
      "metadata": {
        "id": "ppLaF2WteRN4"
      },
      "source": [
        "model1.save('drive/MyDrive/csMinorProject/xray.hdf5')"
      ],
      "execution_count": null,
      "outputs": []
    },
    {
      "cell_type": "code",
      "metadata": {
        "colab": {
          "base_uri": "https://localhost:8080/"
        },
        "id": "oyguuoUckTuB",
        "outputId": "da720544-dc36-4eb2-9dee-584bc5d6b502"
      },
      "source": [
        "yhat = model1.predict(xtest,verbose = 0)\n",
        "\n"
      ],
      "execution_count": null,
      "outputs": [
        {
          "output_type": "stream",
          "name": "stdout",
          "text": [
            "[0 0 1 ... 1 1 0]\n",
            "[[1.6662337e-02]\n",
            " [8.3440298e-04]\n",
            " [1.6837013e-04]\n",
            " ...\n",
            " [2.4724343e-01]\n",
            " [9.8830855e-01]\n",
            " [9.9976104e-01]]\n"
          ]
        }
      ]
    },
    {
      "cell_type": "code",
      "metadata": {
        "colab": {
          "base_uri": "https://localhost:8080/",
          "height": 244
        },
        "id": "G3rLjLjxk7CH",
        "outputId": "cc0f02fb-2156-45b2-9b4c-16e187905c21"
      },
      "source": [
        "print(ytest)\n",
        "print(yhat)\n",
        "# print(ytest.shape)\n",
        "# print(len(ytest))\n",
        "count = 0\n",
        "\n",
        "for i in range(len(ytest)):\n",
        "  temp = 0\n",
        "  if(yhat[i] >= 0.3):\n",
        "      temp = 1\n",
        "  if(temp == ytest[i]):\n",
        "      count +=1\n",
        "print(count)\n",
        "\n",
        "\n",
        "\n",
        "print(\"accuracy on test data is \" + str(count/(len(yhat))))\n"
      ],
      "execution_count": null,
      "outputs": [
        {
          "output_type": "error",
          "ename": "NameError",
          "evalue": "ignored",
          "traceback": [
            "\u001b[0;31m---------------------------------------------------------------------------\u001b[0m",
            "\u001b[0;31mNameError\u001b[0m                                 Traceback (most recent call last)",
            "\u001b[0;32m<ipython-input-1-920bceafe248>\u001b[0m in \u001b[0;36m<module>\u001b[0;34m()\u001b[0m\n\u001b[0;32m----> 1\u001b[0;31m \u001b[0mprint\u001b[0m\u001b[0;34m(\u001b[0m\u001b[0mytest\u001b[0m\u001b[0;34m)\u001b[0m\u001b[0;34m\u001b[0m\u001b[0;34m\u001b[0m\u001b[0m\n\u001b[0m\u001b[1;32m      2\u001b[0m \u001b[0mprint\u001b[0m\u001b[0;34m(\u001b[0m\u001b[0myhat\u001b[0m\u001b[0;34m)\u001b[0m\u001b[0;34m\u001b[0m\u001b[0;34m\u001b[0m\u001b[0m\n\u001b[1;32m      3\u001b[0m \u001b[0;31m# print(ytest.shape)\u001b[0m\u001b[0;34m\u001b[0m\u001b[0;34m\u001b[0m\u001b[0;34m\u001b[0m\u001b[0m\n\u001b[1;32m      4\u001b[0m \u001b[0;31m# print(len(ytest))\u001b[0m\u001b[0;34m\u001b[0m\u001b[0;34m\u001b[0m\u001b[0;34m\u001b[0m\u001b[0m\n\u001b[1;32m      5\u001b[0m \u001b[0mcount\u001b[0m \u001b[0;34m=\u001b[0m \u001b[0;36m0\u001b[0m\u001b[0;34m\u001b[0m\u001b[0;34m\u001b[0m\u001b[0m\n",
            "\u001b[0;31mNameError\u001b[0m: name 'ytest' is not defined"
          ]
        }
      ]
    }
  ]
}